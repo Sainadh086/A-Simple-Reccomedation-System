{
 "cells": [
  {
   "cell_type": "markdown",
   "metadata": {},
   "source": [
    "## Implementing Recommendation engine"
   ]
  },
  {
   "cell_type": "code",
   "execution_count": 1,
   "metadata": {
    "scrolled": true
   },
   "outputs": [
    {
     "name": "stdout",
     "output_type": "stream",
     "text": [
      "Dataset ml-100k could not be found. Do you want to download it? [Y/n] y\n",
      "Trying to download dataset from http://files.grouplens.org/datasets/movielens/ml-100k.zip...\n",
      "Done! Dataset ml-100k has been saved to C:\\Users\\SAINADH/.surprise_data/ml-100k\n"
     ]
    }
   ],
   "source": [
    "from surprise import Dataset\n",
    "data = Dataset.load_builtin('ml-100k')"
   ]
  },
  {
   "cell_type": "code",
   "execution_count": 2,
   "metadata": {},
   "outputs": [],
   "source": [
    "from surprise.model_selection import train_test_split \n",
    "train_data,test_data = train_test_split(data,test_size = 0.2)"
   ]
  },
  {
   "cell_type": "markdown",
   "metadata": {},
   "source": [
    "# ITEM-ITEM COLLABORATIVE FILTERING\n"
   ]
  },
  {
   "cell_type": "code",
   "execution_count": 3,
   "metadata": {},
   "outputs": [
    {
     "name": "stdout",
     "output_type": "stream",
     "text": [
      "Estimating biases using als...\n",
      "Computing the pearson_baseline similarity matrix...\n",
      "Done computing similarity matrix.\n"
     ]
    },
    {
     "data": {
      "text/plain": [
       "<surprise.prediction_algorithms.knns.KNNWithMeans at 0x1c3ea26a940>"
      ]
     },
     "execution_count": 3,
     "metadata": {},
     "output_type": "execute_result"
    }
   ],
   "source": [
    "from surprise import KNNWithMeans\n",
    "knn = KNNWithMeans(k = 30, sim_options = {'name': 'pearson_baseline', 'user_based': False})\n",
    "knn.fit(train_data)"
   ]
  },
  {
   "cell_type": "code",
   "execution_count": 4,
   "metadata": {},
   "outputs": [
    {
     "name": "stdout",
     "output_type": "stream",
     "text": [
      "RMSE: 0.9224\n"
     ]
    },
    {
     "data": {
      "text/plain": [
       "0.9223981768622053"
      ]
     },
     "execution_count": 4,
     "metadata": {},
     "output_type": "execute_result"
    }
   ],
   "source": [
    "y_pred = knn.test(test_data)\n",
    "from surprise import accuracy\n",
    "accuracy.rmse(y_pred, verbose = True)"
   ]
  },
  {
   "cell_type": "code",
   "execution_count": 5,
   "metadata": {},
   "outputs": [
    {
     "data": {
      "text/plain": [
       "[Prediction(uid='45', iid='800', r_ui=5.0, est=2.976423173081955, details={'actual_k': 16, 'was_impossible': False})]"
      ]
     },
     "execution_count": 5,
     "metadata": {},
     "output_type": "execute_result"
    }
   ],
   "source": [
    "knn.test([('45', '800', 5.0)])"
   ]
  },
  {
   "cell_type": "markdown",
   "metadata": {},
   "source": [
    "# USER-USER COLLABORATIVE FILTERING"
   ]
  },
  {
   "cell_type": "code",
   "execution_count": 6,
   "metadata": {},
   "outputs": [
    {
     "name": "stdout",
     "output_type": "stream",
     "text": [
      "Estimating biases using als...\n",
      "Computing the pearson_baseline similarity matrix...\n",
      "Done computing similarity matrix.\n"
     ]
    }
   ],
   "source": [
    "knn = KNNWithMeans(k = 30 , sim_options = {'name': 'pearson_baseline', 'user_based' : True})\n",
    "knn.fit(train_data)\n",
    "y_pred = knn.test(test_data)"
   ]
  },
  {
   "cell_type": "code",
   "execution_count": 7,
   "metadata": {},
   "outputs": [
    {
     "name": "stdout",
     "output_type": "stream",
     "text": [
      "RMSE: 0.9393\n"
     ]
    },
    {
     "data": {
      "text/plain": [
       "0.9392585057438554"
      ]
     },
     "execution_count": 7,
     "metadata": {},
     "output_type": "execute_result"
    }
   ],
   "source": [
    "accuracy.rmse(y_pred, verbose = True)"
   ]
  },
  {
   "cell_type": "code",
   "execution_count": 8,
   "metadata": {},
   "outputs": [
    {
     "name": "stdout",
     "output_type": "stream",
     "text": [
      "user: 196        item: 302        r_ui = 4.00   est = 4.29   {'actual_k': 30, 'was_impossible': False}\n"
     ]
    },
    {
     "data": {
      "text/plain": [
       "Prediction(uid='196', iid='302', r_ui=4.0, est=4.290147191277123, details={'actual_k': 30, 'was_impossible': False})"
      ]
     },
     "execution_count": 8,
     "metadata": {},
     "output_type": "execute_result"
    }
   ],
   "source": [
    "knn.predict('196','302',4.0, verbose =True)"
   ]
  },
  {
   "cell_type": "markdown",
   "metadata": {},
   "source": [
    "# MATRIX FACTORIZATION"
   ]
  },
  {
   "cell_type": "code",
   "execution_count": 9,
   "metadata": {},
   "outputs": [
    {
     "data": {
      "text/plain": [
       "{'n_factors': 120, 'n_epochs': 11, 'lr_all': 0.008, 'reg_all': 0.08}"
      ]
     },
     "execution_count": 9,
     "metadata": {},
     "output_type": "execute_result"
    }
   ],
   "source": [
    "from surprise.model_selection import GridSearchCV\n",
    "from surprise import SVD\n",
    "\n",
    "param_grid = {'n_factors': [110, 120],\n",
    "              'n_epochs': [10, 5, 11],\n",
    "              'lr_all': [0.001, 0.003, 0.005, 0.008],\n",
    "              'reg_all': [0.08, 0.1]}\n",
    "grid_search = GridSearchCV(SVD, param_grid, measures = ['RMSE'], cv = 5)\n",
    "grid_search.fit(data)\n",
    "grid_search.best_params['rmse']"
   ]
  },
  {
   "cell_type": "code",
   "execution_count": 11,
   "metadata": {},
   "outputs": [
    {
     "data": {
      "text/plain": [
       "{'test_rmse': array([0.93566616, 0.93492263, 0.93917967, 0.93967303, 0.93525832]),\n",
       " 'fit_time': (2.8429040908813477,\n",
       "  2.487269878387451,\n",
       "  2.354973554611206,\n",
       "  2.3614661693573,\n",
       "  2.371615409851074),\n",
       " 'test_time': (0.1770336627960205,\n",
       "  0.14763522148132324,\n",
       "  0.11279058456420898,\n",
       "  0.1426072120666504,\n",
       "  0.1616065502166748)}"
      ]
     },
     "execution_count": 11,
     "metadata": {},
     "output_type": "execute_result"
    }
   ],
   "source": [
    "b_params = grid_search.best_estimator['rmse']\n",
    "from surprise.model_selection import cross_validate\n",
    "cross_validate(b_params,data,measures = ['RMSE'], cv =5)"
   ]
  },
  {
   "cell_type": "code",
   "execution_count": 12,
   "metadata": {},
   "outputs": [
    {
     "name": "stdout",
     "output_type": "stream",
     "text": [
      "RMSE: 0.9340\n"
     ]
    },
    {
     "data": {
      "text/plain": [
       "0.9339849726916551"
      ]
     },
     "execution_count": 12,
     "metadata": {},
     "output_type": "execute_result"
    }
   ],
   "source": [
    "svd = SVD(n_factors=120, n_epochs=11, lr_all=0.008, reg_all=0.08)\n",
    "svd.fit(train_data)\n",
    "y_pred = svd.test(test_data)\n",
    "accuracy.rmse(y_pred)"
   ]
  }
 ],
 "metadata": {
  "kernelspec": {
   "display_name": "Python 3",
   "language": "python",
   "name": "python3"
  },
  "language_info": {
   "codemirror_mode": {
    "name": "ipython",
    "version": 3
   },
   "file_extension": ".py",
   "mimetype": "text/x-python",
   "name": "python",
   "nbconvert_exporter": "python",
   "pygments_lexer": "ipython3",
   "version": "3.6.9"
  }
 },
 "nbformat": 4,
 "nbformat_minor": 2
}
